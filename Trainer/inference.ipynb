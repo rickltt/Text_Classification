{
 "cells": [
  {
   "cell_type": "code",
   "execution_count": null,
   "metadata": {},
   "outputs": [],
   "source": [
    "from transformers import AutoTokenizer\n",
    "from model import Bert, BertCNN, BertRNN, BertRCNN, BertDPCNN\n",
    "checkpoint = 'output'\n",
    "classes = ['finance', 'realty', 'stocks', 'education', 'science', 'society', 'politics', 'sports', 'game', 'entertainment']\n",
    "model = BertRNN.from_pretrained(checkpoint, num_labels = len(classes))\n",
    "tokenizer = AutoTokenizer.from_pretrained(checkpoint)"
   ]
  },
  {
   "cell_type": "code",
   "execution_count": null,
   "metadata": {},
   "outputs": [],
   "source": [
    "text = '工行个人网银客户过亿'\n",
    "inputs = tokenizer(text,return_tensors=\"pt\")\n",
    "print(inputs)"
   ]
  },
  {
   "cell_type": "code",
   "execution_count": null,
   "metadata": {},
   "outputs": [],
   "source": [
    "pred = model(**inputs).logits.argmax(-1).item()\n",
    "pred_label = classes[pred]\n",
    "print(pred)\n",
    "print(pred_label)"
   ]
  }
 ],
 "metadata": {
  "language_info": {
   "name": "python"
  },
  "orig_nbformat": 4
 },
 "nbformat": 4,
 "nbformat_minor": 2
}
